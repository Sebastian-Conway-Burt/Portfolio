{
 "cells": [
  {
   "cell_type": "code",
   "execution_count": 2,
   "id": "5f0f64ff-3de9-4fef-af13-d2d678adb6cd",
   "metadata": {},
   "outputs": [
    {
     "name": "stdout",
     "output_type": "stream",
     "text": [
      "The L2 Lagrange polynomial at 0.45 is approximately -0.24999999999999992\n"
     ]
    }
   ],
   "source": [
    "import numpy as np\n",
    "import math\n",
    "def Lagrange_Interpolation(values, x, k):\n",
    "    result = 1\n",
    "    i = 0\n",
    "    k_val = values[k]\n",
    "    for value in values:\n",
    "        if value == k_val:\n",
    "            continue\n",
    "        result = result * (x - value)/(k_val - value)\n",
    "    return result\n",
    "# Example usage\n",
    "values = [0,0.6,0.9]  \n",
    "k = 2\n",
    "x = 0.45\n",
    "\n",
    "\n",
    "result = Lagrange_Interpolation(values, x, k)\n",
    "print(f\"The L{k} Lagrange polynomial at {x} is approximately {result}\")"
   ]
  },
  {
   "cell_type": "code",
   "execution_count": 4,
   "id": "1abf348e-59f2-406e-9d06-72491c671dda",
   "metadata": {},
   "outputs": [
    {
     "name": "stdout",
     "output_type": "stream",
     "text": [
      "The full Lagrange polynomial at x=0.43 is approximately -0.36903891643184383\n",
      "The full Lagrange polynomial at x=0.18 is approximately -0.34770608800807823\n"
     ]
    }
   ],
   "source": [
    "def Full_Lagrange(values, x, f):\n",
    "    \"\"\"\n",
    "    This is supposed to compute the full Lagrange interpolating polynomial\n",
    "    at 'x', i.e. sum_{i=0..n-1}[ L_i(x) * f(x_i) ], \n",
    "    using the points in 'values'.\n",
    "    \"\"\"\n",
    "    P = 0\n",
    "    n = len(values)\n",
    "    for i in range(n):\n",
    "        L = Lagrange_Interpolation(values, x, i)\n",
    "        P += L * f(values[i])\n",
    "    return P\n",
    "\n",
    "# Example usage:\n",
    "values1 = [0, 0.25, 0.5, 0.75]\n",
    "values2 = [0.1, 0.2, 0.3, 0.4]\n",
    "x1 = 0.43\n",
    "x2 = 0.18\n",
    "\n",
    "def f(x):\n",
    "    if x == 0:\n",
    "        return 0\n",
    "    else:\n",
    "        return x * np.log(x)\n",
    "def g(x):\n",
    "    return x * np.cos(x) - 2 * x**2 + 3*x -1\n",
    "\n",
    "# Test full Lagrange polynomial:\n",
    "result_full1 = Full_Lagrange(values1, x1, f)\n",
    "result_full2 = Full_Lagrange(values2, x2, g)\n",
    "\n",
    "print(f\"The full Lagrange polynomial at x={x1} is approximately {result_full1}\")\n",
    "print(f\"The full Lagrange polynomial at x={x2} is approximately {result_full2}\")\n"
   ]
  },
  {
   "cell_type": "code",
   "execution_count": null,
   "id": "7b19ad59-7e22-45bf-92bf-541f7b662e13",
   "metadata": {},
   "outputs": [],
   "source": []
  }
 ],
 "metadata": {
  "kernelspec": {
   "display_name": "Python 3 (ipykernel)",
   "language": "python",
   "name": "python3"
  },
  "language_info": {
   "codemirror_mode": {
    "name": "ipython",
    "version": 3
   },
   "file_extension": ".py",
   "mimetype": "text/x-python",
   "name": "python",
   "nbconvert_exporter": "python",
   "pygments_lexer": "ipython3",
   "version": "3.10.8"
  }
 },
 "nbformat": 4,
 "nbformat_minor": 5
}
