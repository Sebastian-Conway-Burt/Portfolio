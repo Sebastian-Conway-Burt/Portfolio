{
 "cells": [
  {
   "cell_type": "code",
   "execution_count": 1,
   "id": "41238d36-ec78-4039-9556-0dd156d44b92",
   "metadata": {},
   "outputs": [
    {
     "name": "stdout",
     "output_type": "stream",
     "text": [
      "Approximation for the integral: 0.46837012301477754\n"
     ]
    }
   ],
   "source": [
    "import numpy as np\n",
    "from scipy.integrate import quad\n",
    "\n",
    "def ndquad(func, limits, args=()):\n",
    "    # Base case: when no more integration dimensions are left, evaluate func.\n",
    "    if not limits:\n",
    "        return func(*args)\n",
    "    else:\n",
    "        # Take the first integration limit\n",
    "        lower, upper = limits[0]\n",
    "        # Integrate over the first variable using quad, and recurse on the remaining dimensions.\n",
    "        result, err = quad(lambda x: ndquad(func, limits[1:], args + (x,)), lower, upper)\n",
    "        return result\n",
    "\n",
    "# Define the integrand for part (b)\n",
    "def integrand(x, y):\n",
    "    return np.log(x**2 + y**2 + 1) * np.exp(- (x**2 + y**2))\n",
    "\n",
    "# Set the integration limits for x and y: from 0 to infinity.\n",
    "limits = [(0, np.inf), (0, np.inf)]\n",
    "\n",
    "# Compute the integral using the multidimensional integration function\n",
    "result = ndquad(integrand, limits)\n",
    "print(\"Approximation for the integral:\", result)\n"
   ]
  },
  {
   "cell_type": "code",
   "execution_count": 3,
   "id": "d7d146b8-c99a-45c0-84f5-3c1bd890d27e",
   "metadata": {},
   "outputs": [
    {
     "name": "stdout",
     "output_type": "stream",
     "text": [
      "Quadrature result: 0.46837012  (computed in 0.0471 seconds)\n",
      "Monte Carlo result: 0.46885094  (computed in 0.0002 seconds)\n"
     ]
    }
   ],
   "source": [
    "import numpy as np\n",
    "from scipy.integrate import quad\n",
    "from scipy.special import erfinv\n",
    "import time\n",
    "\n",
    "# Recursive n-dimensional quadrature integration using 1D quad\n",
    "def ndquad(func, limits, args=()):\n",
    "    if not limits:\n",
    "        return func(*args)\n",
    "    else:\n",
    "        lower = limits[0]\n",
    "        upper = limits[0]\n",
    "        result, err = quad(lambda x: ndquad(func, limits[1:], args + (x,)), lower, upper)\n",
    "        return result\n",
    "\n",
    "def integrand(x, y):\n",
    "    return np.log(1 + x**2 + y**2) * np.exp(-(x**2 + y**2))\n",
    "\n",
    "\n",
    "limits = [(0, np.inf), (0, np.inf)]\n",
    "start_quad = time.time()\n",
    "quad_result = ndquad(integrand, limits)\n",
    "end_quad = time.time()\n",
    "quad_time = end_quad - start_quad\n",
    "\n",
    "# =====================\n",
    "# Monte Carlo Integration via Importance Sampling\n",
    "# =====================\n",
    "# We want to sample (x,y) from g(x,y) = (4/pi)*exp(-(x^2+y^2)) for x,y >= 0.\n",
    "# The marginal density for x is f(x)= (2/sqrt(pi))*exp(-x^2) with CDF F(x)=erf(x).\n",
    "# So we sample: x = erfinv(u), u ~ Uniform(0,1). (Similarly for y.)\n",
    "n = 10**5\n",
    "# Generate uniform random numbers for each coordinate\n",
    "u = np.random.rand(n)\n",
    "v = np.random.rand(n)\n",
    "x_samples = erfinv(u)\n",
    "y_samples = erfinv(v)\n",
    "\n",
    "# Compute the importance-sampling ratio:\n",
    "# f(x,y)/g(x,y) = ln(1+x^2+y^2)*e^{-(x^2+y^2)} / ((4/pi)*e^{-(x^2+y^2)}) = (pi/4)*ln(1+x^2+y^2)\n",
    "mc_values = (np.pi/4) * np.log(1 + x_samples**2 + y_samples**2)\n",
    "\n",
    "start_mc = time.time()\n",
    "mc_estimate = np.mean(mc_values)\n",
    "end_mc = time.time()\n",
    "mc_time = end_mc - start_mc\n",
    "\n",
    "# =====================\n",
    "# Report results\n",
    "# =====================\n",
    "print(\"Quadrature result: {:.8f}  (computed in {:.4f} seconds)\".format(quad_result, quad_time))\n",
    "print(\"Monte Carlo result: {:.8f}  (computed in {:.4f} seconds)\".format(mc_estimate, mc_time))\n"
   ]
  },
  {
   "cell_type": "code",
   "execution_count": null,
   "id": "0d669868-6dfd-4776-97aa-bc83af1de558",
   "metadata": {},
   "outputs": [],
   "source": []
  }
 ],
 "metadata": {
  "kernelspec": {
   "display_name": "Python 3 (ipykernel)",
   "language": "python",
   "name": "python3"
  },
  "language_info": {
   "codemirror_mode": {
    "name": "ipython",
    "version": 3
   },
   "file_extension": ".py",
   "mimetype": "text/x-python",
   "name": "python",
   "nbconvert_exporter": "python",
   "pygments_lexer": "ipython3",
   "version": "3.10.8"
  }
 },
 "nbformat": 4,
 "nbformat_minor": 5
}
