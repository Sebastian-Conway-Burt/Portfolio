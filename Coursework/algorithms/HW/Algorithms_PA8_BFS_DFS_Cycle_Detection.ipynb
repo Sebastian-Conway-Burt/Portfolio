{
 "cells": [
  {
   "cell_type": "markdown",
   "metadata": {
    "tags": []
   },
   "source": [
    "# CSPB-3104 Programming Assignment 8\n",
    "\n"
   ]
  },
  {
   "cell_type": "markdown",
   "metadata": {},
   "source": [
    "1) (15 points) Implement Breadth First and Depth First Search\n",
    "\n",
    "\n",
    "Given an adjacency list a,  \n",
    "bfs(a, u) performs a breadth first search starting at node u and returns a list of nodes in the order in which they were seen.  \n",
    "INPUT: [[1]. [2], [0]], 1  (a 3 node cycle, starting BFS at node 1)  \n",
    "OUTPUT: [1, 2, 0]\n",
    "\n",
    "dfs(a) performs a depth first search starting at node 0 and returns a list of nodes in the order in which they were seen, with start and stop times.  \n",
    "INPUT: [[1], [2], [0]] (a 3 node cycle)  \n",
    "OUTPUT: [(0, (1, 6)), (1, (2, 5)), (2, (3, 4))]\n",
    "\n",
    "Note: Choose the next node in numerical order (node 3 is searched before node 5).  The adjacency lists are already sorted in this order.  \n",
    "You may use the heapq library for queues.  \n",
    "Be careful of the formatting for DFS.  Each element of the return list is a tuple containing an int and another tuple: (node_id, (start_time, stop_time))\n",
    "\n",
    "\n",
    "[[1], [2], [0]] is the following graph: \n",
    "$$ \\raisebox{.5pt}{\\textcircled{\\raisebox{-.9pt} {0}}}\n",
    " \\\\\n",
    "\\swarrow \\;\\; \\nwarrow\\\\\n",
    "\\raisebox{.5pt}{\\textcircled{\\raisebox{-.9pt} {1}}}\n",
    " \\;\\rightarrow\\; \\raisebox{.5pt}{\\textcircled{\\raisebox{-.9pt} {2}}}\n",
    "\n",
    "$$"
   ]
  },
  {
   "cell_type": "code",
   "execution_count": 162,
   "metadata": {},
   "outputs": [],
   "source": [
    "import heapq\n",
    "\n",
    "def bfs(a, u):\n",
    "    visited = set()\n",
    "    result = [] \n",
    "    queue = []  \n",
    "    \n",
    "    heapq.heappush(queue, u)\n",
    "    visited.add(u)\n",
    "    \n",
    "    while queue:\n",
    "        current = heapq.heappop(queue)\n",
    "        result.append(current)\n",
    "        \n",
    "        for neighbor in a[current]:\n",
    "            if neighbor not in visited:\n",
    "                visited.add(neighbor)\n",
    "                heapq.heappush(queue, neighbor)\n",
    "    \n",
    "    return result"
   ]
  },
  {
   "cell_type": "code",
   "execution_count": 168,
   "metadata": {},
   "outputs": [],
   "source": [
    "def dfs(a):\n",
    "    visited = set()\n",
    "    order = []\n",
    "    time = 0\n",
    "    discovery = {}\n",
    "    finishing = {}\n",
    "    \n",
    "    def dfs_visit(node):\n",
    "        nonlocal time\n",
    "        visited.add(node)\n",
    "        time += 1\n",
    "        discovery[node] = time\n",
    "        order.append((node, (discovery[node], None)))  \n",
    "        for neighbor in sorted(a[node]):\n",
    "            if neighbor not in visited:\n",
    "                dfs_visit(neighbor)\n",
    "        time += 1\n",
    "        finishing[node] = time\n",
    "       \n",
    "        for i in range(len(order)):\n",
    "            if order[i][0] == node:\n",
    "                order[i] = (node, (discovery[node], finishing[node]))\n",
    "    \n",
    "    for node in range(len(a)):\n",
    "        if node not in visited:\n",
    "            dfs_visit(node)\n",
    "    \n",
    "    return order"
   ]
  },
  {
   "cell_type": "markdown",
   "metadata": {},
   "source": [
    "2) (10 points) Finding cycles\n",
    "\n",
    "Write a function that returns whether a node is part of a cycle.\n",
    "\n",
    "HINT: Modify you DFS to return early when it finds a cycle"
   ]
  },
  {
   "cell_type": "code",
   "execution_count": 169,
   "metadata": {},
   "outputs": [],
   "source": [
    "def part_of_a_cycle(graph, node):\n",
    "    \n",
    "    visited = set()\n",
    "    recursion_stack = set()\n",
    "\n",
    "    def dfs_cycle(current_node, start_node):\n",
    "        if current_node in recursion_stack:\n",
    "            return current_node == start_node\n",
    "        if current_node in visited:\n",
    "            return False\n",
    "\n",
    "        visited.add(current_node)\n",
    "        recursion_stack.add(current_node)\n",
    "        \n",
    "        for neighbor in graph[current_node]:\n",
    "            if dfs_cycle(neighbor, start_node):\n",
    "                return True\n",
    "            \n",
    "        recursion_stack.remove(current_node)\n",
    "        return False\n",
    "\n",
    "    result = dfs_cycle(node, node)\n",
    "    return result"
   ]
  },
  {
   "cell_type": "markdown",
   "metadata": {},
   "source": [
    "Testing below\n",
    "\n",
    "----"
   ]
  },
  {
   "cell_type": "code",
   "execution_count": 170,
   "metadata": {},
   "outputs": [
    {
     "name": "stderr",
     "output_type": "stream",
     "text": [
      "/tmp/ipykernel_143/697942164.py:3: DeprecationWarning: Importing display from IPython.core.display is deprecated since IPython 7.14, please import from IPython display\n",
      "  from IPython.core.display import display, HTML\n"
     ]
    },
    {
     "data": {
      "text/html": [
       "<font color=\"green\"> All tests succeeded! </font>"
      ],
      "text/plain": [
       "<IPython.core.display.HTML object>"
      ]
     },
     "metadata": {},
     "output_type": "display_data"
    }
   ],
   "source": [
    "## DO NOT EDIT TESTING CODE FOR YOUR ANSWER ABOVE\n",
    "# Press shift enter to test your code. Ensure that your code has been saved first by pressing shift+enter on the previous cell.\n",
    "from IPython.core.display import display, HTML\n",
    "def dfs_test():\n",
    "    failed = False\n",
    "    test_cases = [ \n",
    "        ([[1, 2, 3], [0, 2, 3], [0,1,3],[0,1,2]], [(0, (1, 8)), (1, (2, 7)), (2, (3, 6)), (3, (4, 5))]),\n",
    "        ([[1,3],[0],[1,3],[2]], [(0, (1, 8)), (1, (2, 3)), (3, (4, 7)), (2, (5, 6))]),\n",
    "        ([[],[0, 2],[3],[1]], [(0, (1, 2)), (1, (3, 8)), (2, (4, 7)), (3, (5, 6))]),\n",
    "        ([[],[0, 3],[1],[]],[(0, (1, 2)), (1, (3, 6)), (3, (4, 5)), (2, (7, 8))]),\n",
    "        ([[1, 2], [4,5], [3,4], [8,9], [7,8], [6,7], [], [], [], []],[(0, (1, 20)), (1, (2, 13)), (4, (3, 8)), (7, (4, 5)), (8, (6, 7)), (5, (9, 12)), (6, (10, 11)), (2, (14, 19)), (3, (15, 18)), (9, (16, 17))])\n",
    "\n",
    "    ]\n",
    "    for (test_graph, solution) in test_cases:\n",
    "        output = dfs(test_graph)\n",
    "        if (solution != output):\n",
    "            s1 = '<font color=\\\"red\\\"> Failed - test case: Inputs: graph =' + str(test_graph) + \"<br>\"\n",
    "            s2 = '  <b> Expected Output: </b> ' + str(solution) + ' Your code output: ' + str(output)+ \"<br>\"\n",
    "            display(HTML(s1+s2))\n",
    "            failed = True\n",
    "            \n",
    "    if failed:\n",
    "        display(HTML('<font color=\"red\"> One or more tests failed. </font>'))\n",
    "    else:\n",
    "        display(HTML('<font color=\"green\"> All tests succeeded! </font>'))\n",
    "dfs_test()"
   ]
  },
  {
   "cell_type": "code",
   "execution_count": 171,
   "metadata": {},
   "outputs": [
    {
     "name": "stderr",
     "output_type": "stream",
     "text": [
      "/tmp/ipykernel_143/3323057166.py:3: DeprecationWarning: Importing display from IPython.core.display is deprecated since IPython 7.14, please import from IPython display\n",
      "  from IPython.core.display import display, HTML\n"
     ]
    },
    {
     "data": {
      "text/html": [
       "<font color=\"green\"> All tests succeeded! </font>"
      ],
      "text/plain": [
       "<IPython.core.display.HTML object>"
      ]
     },
     "metadata": {},
     "output_type": "display_data"
    }
   ],
   "source": [
    "## DO NOT EDIT TESTING CODE FOR YOUR ANSWER ABOVE\n",
    "# Press shift enter to test your code. Ensure that your code has been saved first by pressing shift+enter on the previous cell.\n",
    "from IPython.core.display import display, HTML\n",
    "def bfs_test():\n",
    "    failed = False\n",
    "    test_cases = [ \n",
    "        ([[1, 2, 3], [0, 2, 3], [0,1,3],[0,1,2]], 0, [0,1,2,3]),\n",
    "        ([[1,3],[0],[1,3],[2]], 0, [0, 1, 3, 2]),\n",
    "        ([[],[0, 2],[3],[1]], 0, [0]),\n",
    "        ([[],[0, 2],[3],[1]], 1, [1, 0, 2, 3]),\n",
    "        ([[1, 2], [4,5], [3,4], [8,9], [7,8], [6,7], [], [], [], []], 0, [0,1,2,3,4,5,6,7,8,9])\n",
    "\n",
    "    ]\n",
    "    for (test_graph, starting_node, solution) in test_cases:\n",
    "        output = bfs(test_graph, starting_node)\n",
    "        if (solution != output):\n",
    "            s1 = '<font color=\\\"red\\\"> Failed - test case: Inputs: graph =' + str(test_graph) + \"<br>\"\n",
    "            s2 = '  <b> Expected Output: </b> ' + str(solution) + ' Your code output: ' + str(output)+ \"<br>\"\n",
    "            display(HTML(s1+s2))\n",
    "            failed = True\n",
    "            \n",
    "    if failed:\n",
    "        display(HTML('<font color=\"red\"> One or more tests failed. </font>'))\n",
    "    else:\n",
    "        display(HTML('<font color=\"green\"> All tests succeeded! </font>'))\n",
    "bfs_test()"
   ]
  },
  {
   "cell_type": "code",
   "execution_count": 172,
   "metadata": {},
   "outputs": [
    {
     "name": "stderr",
     "output_type": "stream",
     "text": [
      "/tmp/ipykernel_143/1471569436.py:3: DeprecationWarning: Importing display from IPython.core.display is deprecated since IPython 7.14, please import from IPython display\n",
      "  from IPython.core.display import display, HTML\n"
     ]
    },
    {
     "data": {
      "text/html": [
       "<font color=\"green\"> All tests succeeded! </font>"
      ],
      "text/plain": [
       "<IPython.core.display.HTML object>"
      ]
     },
     "metadata": {},
     "output_type": "display_data"
    }
   ],
   "source": [
    "## DO NOT EDIT TESTING CODE FOR YOUR ANSWER ABOVE\n",
    "# Press shift enter to test your code. Ensure that your code has been saved first by pressing shift+enter on the previous cell.\n",
    "from IPython.core.display import display, HTML\n",
    "def part_of_a_cycle_test():\n",
    "    failed = False\n",
    "    test_cases = [ \n",
    "        ([[1, 2, 3], [0, 2, 3], [0,1,3],[0,1,2]], 0, True),\n",
    "        ([[1,3],[],[1,3],[2]], 0, False),\n",
    "        ([[1,3],[],[1,3],[2]], 2, True),\n",
    "        ([[],[0, 2],[3],[1]], 0, False),\n",
    "        ([[],[0, 2],[3],[1]], 1, True),\n",
    "        ([[1, 2], [4,5], [3,4], [8,9], [7,8], [6,7], [], [], [], []], 0, False)\n",
    "\n",
    "    ]\n",
    "    for (test_graph, starting_node, solution) in test_cases:\n",
    "        output = part_of_a_cycle(test_graph, starting_node)\n",
    "        if (solution != output):\n",
    "            s1 = '<font color=\\\"red\\\"> Failed - test case: Inputs: graph =' + str(test_graph) + ' node ' + str(starting_node) + \"<br>\"\n",
    "            s2 = '  <b> Expected Output: </b> ' + str(solution) + ' Your code output: ' + str(output)+ \"<br>\"\n",
    "            display(HTML(s1+s2))\n",
    "            failed = True\n",
    "            \n",
    "    if failed:\n",
    "        display(HTML('<font color=\"red\"> One or more tests failed. </font>'))\n",
    "    else:\n",
    "        display(HTML('<font color=\"green\"> All tests succeeded! </font>'))\n",
    "part_of_a_cycle_test()"
   ]
  },
  {
   "cell_type": "code",
   "execution_count": null,
   "metadata": {},
   "outputs": [],
   "source": []
  },
  {
   "cell_type": "code",
   "execution_count": null,
   "metadata": {},
   "outputs": [],
   "source": []
  }
 ],
 "metadata": {
  "kernelspec": {
   "display_name": "Python 3 (ipykernel)",
   "language": "python",
   "name": "python3"
  },
  "language_info": {
   "codemirror_mode": {
    "name": "ipython",
    "version": 3
   },
   "file_extension": ".py",
   "mimetype": "text/x-python",
   "name": "python",
   "nbconvert_exporter": "python",
   "pygments_lexer": "ipython3",
   "version": "3.10.8"
  }
 },
 "nbformat": 4,
 "nbformat_minor": 4
}
