{
 "cells": [
  {
   "cell_type": "markdown",
   "metadata": {
    "tags": []
   },
   "source": [
    "# CSPB 3104 Programming Assignment 6/7"
   ]
  },
  {
   "cell_type": "markdown",
   "metadata": {},
   "source": [
    "## Question 1: Mini Magic Bean Stalks\n",
    "\n",
    "Mr E is growing magic beans again, but this time for a different purpose.  \n",
    "He wants to grow specific lengths of bean stalks to use as bridges and ladders for his pet frogs.\n",
    "\n",
    "He starts with a 1 inch cutting of a stalk, and each day he can apply one drop of one of four fertilizers to it, making it grow either 1, 4, 5, or 11 inches, depending on the fertilizer.\n",
    "He wishes to get a bean stalk of length n using the minimum number of drops of fertilizer, and he doesn't want to cut the finished stalk (you cannot shorten a stalk).\n",
    "\n",
    "Your goal is to use dynamic programming to find out how to grow a stalk of length n from a stalk of length 1 using the least number of steps.\n",
    "\n",
    "## 1(A) Write a recurrence.\n",
    "\n",
    "Write a recurrence `minDrops(j, n)` that represents the minimum number of drops of fertilizer needed to grow a stalk from j inches to n inches.\n"
   ]
  },
  {
   "cell_type": "code",
   "execution_count": 8,
   "metadata": {},
   "outputs": [],
   "source": [
    "def minDrops(j, n):\n",
    "    if j == n:\n",
    "        return 0\n",
    "    if j > n:\n",
    "        return float('inf')\n",
    "    return 1 + min(minDrops(j + 1, n), minDrops(j + 4, n), minDrops(j + 5, n), minDrops(j + 11, n))"
   ]
  },
  {
   "cell_type": "code",
   "execution_count": 9,
   "metadata": {},
   "outputs": [
    {
     "name": "stdout",
     "output_type": "stream",
     "text": [
      "2\n",
      "2\n",
      "4\n",
      "3\n",
      "5\n"
     ]
    }
   ],
   "source": [
    "## Test Code: Do not edit\n",
    "print(minDrops(1, 9)) # should be 2\n",
    "print(minDrops(1, 13)) # should be 2\n",
    "print(minDrops(1, 19)) # should be 4\n",
    "print(minDrops(1, 34)) # should be 3\n",
    "print(minDrops(1, 43)) # should be 5"
   ]
  },
  {
   "cell_type": "markdown",
   "metadata": {},
   "source": [
    "## 1(B) Memoize the Recurrence.\n",
    "\n",
    "Assume that n is fixed. The memo table $T[0], \\ldots, T[n]$ should store the value of `minDrops(j, n)`. "
   ]
  },
  {
   "cell_type": "code",
   "execution_count": 1,
   "metadata": {},
   "outputs": [],
   "source": [
    "def minDrops_Memoize(n):\n",
    "    memo = {}\n",
    "    \n",
    "    def minDrops(j, n):\n",
    "        if j in memo:\n",
    "            return memo[j]\n",
    "        if j == n:\n",
    "            return 0\n",
    "        if j > n:\n",
    "            return float('inf')\n",
    "        memo[j] = 1 + min(minDrops(j + 1, n), minDrops(j + 4, n), minDrops(j + 5, n), minDrops(j + 11, n))\n",
    "        return memo[j]\n",
    "    \n",
    "    return minDrops(1, n)"
   ]
  },
  {
   "cell_type": "code",
   "execution_count": 2,
   "metadata": {},
   "outputs": [
    {
     "name": "stdout",
     "output_type": "stream",
     "text": [
      "2\n",
      "2\n",
      "4\n",
      "3\n",
      "5\n"
     ]
    }
   ],
   "source": [
    "## Test Code: Do not edit\n",
    "print(minDrops_Memoize(9)) # should be 2\n",
    "print(minDrops_Memoize(13)) # should be 2\n",
    "print(minDrops_Memoize(19)) # should be 4\n",
    "print(minDrops_Memoize(34)) # should be 3\n",
    "print(minDrops_Memoize(43)) # should be 5"
   ]
  },
  {
   "cell_type": "markdown",
   "metadata": {},
   "source": [
    "## 1(C) Recover the Solution\n",
    "\n",
    "Modify the solution from part B to also return which fertilizer Mr E needs to use at each step.  Your answer must be\n",
    "a pair: `minimum number of total drops, list of fertilizer per drop: each elements of this list must be 1, 4, 5 or 11`\n"
   ]
  },
  {
   "cell_type": "code",
   "execution_count": 12,
   "metadata": {},
   "outputs": [],
   "source": [
    "def minDrops_Solution(n):\n",
    "    # Initialize a table to store the minimum drops needed for each length\n",
    "    T = [float('inf')] * (n + 1)\n",
    "    \n",
    "    # Base case: it takes 0 drops to have a stalk of length 1 from 1\n",
    "    T[1] = 0\n",
    "    \n",
    "    # Fill the table\n",
    "    for i in range(1, n):\n",
    "        if i + 1 <= n:\n",
    "            T[i + 1] = min(T[i + 1], T[i] + 1)\n",
    "        if i + 4 <= n:\n",
    "            T[i + 4] = min(T[i + 4], T[i] + 1)\n",
    "        if i + 5 <= n:\n",
    "            T[i + 5] = min(T[i + 5], T[i] + 1)\n",
    "        if i + 11 <= n:\n",
    "            T[i + 11] = min(T[i + 11], T[i] + 1)\n",
    "    \n",
    "    # The answer will be in T[n]\n",
    "    return T[n]"
   ]
  },
  {
   "cell_type": "code",
   "execution_count": 13,
   "metadata": {},
   "outputs": [
    {
     "name": "stdout",
     "output_type": "stream",
     "text": [
      "2\n",
      "2\n",
      "4\n",
      "3\n",
      "5\n"
     ]
    }
   ],
   "source": [
    "## Test Code: Do not edit\n",
    "print(minDrops_Solution(9)) # should be 2, [4, 4]\n",
    "print(minDrops_Solution(13)) # should be 2, [1, 11]\n",
    "print(minDrops_Solution(19)) # should be 4, [1, 1, 5, 11]\n",
    "print(minDrops_Solution(34)) # should be 3, [11, 11, 11]\n",
    "print(minDrops_Solution(43)) # should be 5, [4, 5, 11, 11, 11]"
   ]
  },
  {
   "cell_type": "markdown",
   "metadata": {},
   "source": [
    "----"
   ]
  },
  {
   "cell_type": "markdown",
   "metadata": {},
   "source": [
    "## Question 2: Bad sizes\n",
    "\n",
    "Mr E has noticed something quite strange:  Any bean stalk whose length leaves a remainder of 2 when divided by 7 dies over night.  \n",
    "He demands you change your algorithm to avoid these 'dead lengths.'\n",
    "You think it might just be his cat digging around in the pots late at night, but you don't wish to argue.\n",
    "\n",
    "## 2(A) Write a recurrence.\n",
    "\n",
    "Write a recurrence `minGoodDrops(j, n)` that represents the minimum number of drops of fertilizer necessary to grow a bean stalk from j inches to n inches, avoiding any intermediate stage of length k when k mod 7 = 2.\n"
   ]
  },
  {
   "cell_type": "code",
   "execution_count": 14,
   "metadata": {},
   "outputs": [],
   "source": [
    "def minGoodDrops(j, n):\n",
    "    if j == n:\n",
    "        return 0\n",
    "    if j > n or j % 7 == 2:\n",
    "        return float('inf')\n",
    "    return 1 + min(minGoodDrops(j + 1, n), minGoodDrops(j + 4, n), minGoodDrops(j + 5, n), minGoodDrops(j + 11, n))"
   ]
  },
  {
   "cell_type": "code",
   "execution_count": 15,
   "metadata": {},
   "outputs": [
    {
     "name": "stdout",
     "output_type": "stream",
     "text": [
      "2\n",
      "2\n",
      "4\n",
      "5\n",
      "5\n",
      "6\n"
     ]
    }
   ],
   "source": [
    "## Test Code: Do not edit\n",
    "print(minGoodDrops(1, 9)) # should be 2\n",
    "print(minGoodDrops(1, 13)) # should be 2\n",
    "print(minGoodDrops(1, 19)) # should be 4\n",
    "print(minGoodDrops(1, 34)) # should be 5\n",
    "print(minGoodDrops(1, 43)) # should be 5\n",
    "print(minGoodDrops(1, 55)) # should be 6 "
   ]
  },
  {
   "cell_type": "markdown",
   "metadata": {},
   "source": [
    "## 2(B) Memoize the recurrence in 2(A)"
   ]
  },
  {
   "cell_type": "code",
   "execution_count": 3,
   "metadata": {},
   "outputs": [],
   "source": [
    "def minGoodDrops_Memoize(n):\n",
    "    memo = {}\n",
    "    \n",
    "    def minGoodDrops(j, n):\n",
    "        if j in memo:\n",
    "            return memo[j]\n",
    "        if j == n:\n",
    "            return 0\n",
    "        if j > n or j % 7 == 2:\n",
    "            return float('inf')\n",
    "        memo[j] = 1 + min(minGoodDrops(j + 1, n), minGoodDrops(j + 4, n), minGoodDrops(j + 5, n), minGoodDrops(j + 11, n))\n",
    "        return memo[j]\n",
    "    \n",
    "    return minGoodDrops(1, n)"
   ]
  },
  {
   "cell_type": "code",
   "execution_count": 4,
   "metadata": {},
   "outputs": [
    {
     "name": "stdout",
     "output_type": "stream",
     "text": [
      "2\n",
      "2\n",
      "4\n",
      "5\n",
      "5\n",
      "6\n",
      "8\n",
      "83\n"
     ]
    }
   ],
   "source": [
    "## Test Code: Do not edit\n",
    "print(minGoodDrops_Memoize(9)) # should be 2\n",
    "print(minGoodDrops_Memoize(13)) # should be 2\n",
    "print(minGoodDrops_Memoize(19)) # should be 4\n",
    "print(minGoodDrops_Memoize(34)) # should be 5\n",
    "print(minGoodDrops_Memoize(43)) # should be 5\n",
    "print(minGoodDrops_Memoize(55)) # should be 6\n",
    "print(minGoodDrops_Memoize(69)) # should be 8\n",
    "print(minGoodDrops_Memoize(812)) # should be 83"
   ]
  },
  {
   "cell_type": "markdown",
   "metadata": {},
   "source": [
    "## 2(C) Recover the solution in terms of the growth from each drop of fertilizer."
   ]
  },
  {
   "cell_type": "code",
   "execution_count": 5,
   "metadata": {},
   "outputs": [],
   "source": [
    "def minGoodDrops_Solution(n):\n",
    "    T = [float('inf')] * (n + 1)\n",
    "    T[1] = 0\n",
    "    parent = [-1] * (n + 1)  # to track the steps\n",
    "    \n",
    "    for i in range(1, n):\n",
    "        if i % 7 == 2:\n",
    "            continue\n",
    "        if i + 1 <= n and T[i + 1] > T[i] + 1:\n",
    "            T[i + 1] = T[i] + 1\n",
    "            parent[i + 1] = 1\n",
    "        if i + 4 <= n and T[i + 4] > T[i] + 1:\n",
    "            T[i + 4] = T[i] + 1\n",
    "            parent[i + 4] = 4\n",
    "        if i + 5 <= n and T[i + 5] > T[i] + 1:\n",
    "            T[i + 5] = T[i] + 1\n",
    "            parent[i + 5] = 5\n",
    "        if i + 11 <= n and T[i + 11] > T[i] + 1:\n",
    "            T[i + 11] = T[i] + 1\n",
    "            parent[i + 11] = 11\n",
    "    \n",
    "    # Recover the path\n",
    "    result = []\n",
    "    current = n\n",
    "    while current != 1:\n",
    "        result.append(parent[current])\n",
    "        current -= parent[current]\n",
    "    \n",
    "    result.reverse()\n",
    "    return T[n], result"
   ]
  },
  {
   "cell_type": "code",
   "execution_count": 6,
   "metadata": {},
   "outputs": [
    {
     "name": "stdout",
     "output_type": "stream",
     "text": [
      "(2, [4, 4])\n",
      "(2, [11, 1])\n",
      "(4, [5, 1, 1, 11])\n",
      "(5, [5, 1, 11, 11, 5])\n",
      "(5, [4, 5, 11, 11, 11])\n",
      "(6, [5, 11, 11, 11, 11, 5])\n",
      "(8, [11, 1, 11, 11, 11, 11, 11, 1])\n",
      "(83, [5, 11, 11, 11, 11, 5, 11, 11, 11, 11, 5, 11, 11, 11, 11, 5, 11, 11, 11, 11, 5, 11, 11, 11, 11, 5, 11, 11, 11, 11, 5, 11, 11, 11, 11, 5, 11, 11, 11, 11, 5, 11, 11, 11, 11, 5, 11, 11, 11, 11, 5, 11, 11, 11, 11, 5, 11, 11, 11, 11, 5, 11, 11, 11, 11, 5, 11, 11, 11, 11, 5, 11, 11, 11, 11, 5, 11, 11, 11, 11, 5, 11, 11])\n"
     ]
    }
   ],
   "source": [
    "## Test Code: Do not edit\n",
    "print(minGoodDrops_Solution(9)) # should be 2, [4, 4]\n",
    "print(minGoodDrops_Solution(13)) # should be 2, [11, 1]\n",
    "print(minGoodDrops_Solution(19)) # should be 4, [4, 5, 4, 5]\n",
    "print(minGoodDrops_Solution(34)) # should be 5, [5, 1, 11, 11, 5]\n",
    "print(minGoodDrops_Solution(43)) # should be 5, [4, 5, 11, 11, 11]\n",
    "print(minGoodDrops_Solution(55)) # should be 6, [5, 11, 11, 11, 11, 5]\n",
    "print(minGoodDrops_Solution(69)) # should be 8, [11, 1, 11, 11, 11, 11, 11, 1]\n",
    "print(minGoodDrops_Solution(812)) # should be 83, [5, 11, 11, 11, 11, 5, 11, 11, 11, 11, 5, 11, 11, 11, 11, 5, 11, 11, 11, 11, 5, 11, 11, 11, 11, 5, 11, 11, 11, 11, 5, 11, 11, 11, 11, 5, 11, 11, 11, 11, 5, 11, 11, 11, 11, 5, 11, 11, 11, 11, 5, 11, 11, 11, 11, 5, 11, 11, 11, 11, 5, 11, 11, 11, 11, 5, 11, 11, 11, 11, 5, 11, 11, 11, 11, 5, 11, 11, 11, 11, 5, 11, 11]"
   ]
  },
  {
   "cell_type": "markdown",
   "metadata": {},
   "source": [
    "## Question 3: Growth on a budget\n",
    "\n",
    "\"Your plans always cost too much!\" Mr E exclaimed.  He never told you he was on a budget, nor how much each fertilizer cost, but somehow he expected you to factor in his fixed income while growing his increasingly ornate jungle frog habitats.  You delicately ask how much each fertilizer costs, and got the following information:\n",
    "\n",
    "| Daily growth (in)  | Cost ($) |\n",
    "|---------------|----------|\n",
    "|  1            |    1     |\n",
    "|  4            |    2     |\n",
    "|  5            |    3     |\n",
    "| 11            |    7     |\n",
    "\n",
    "\n",
    "Given $n$, and initial investment $D_0$, plan how Mr E can grow an n inch bean stalk while\n",
    "avoiding the 'dead lengths' (when the stalk grows to a length 2 mod 7), and not going over budget."
   ]
  },
  {
   "cell_type": "markdown",
   "metadata": {},
   "source": [
    "----"
   ]
  },
  {
   "cell_type": "markdown",
   "metadata": {},
   "source": [
    "### 3(A): Write a Recurrence\n",
    "\n",
    "Write a recurrence `minDropsWithBudget(j, D, n)` given a stalk of length j, with budget D, returns the minimum number of drops of fertilizer needed to grow to length n, while avoiding any intermediate length k where k = 2 mod 7. "
   ]
  },
  {
   "cell_type": "code",
   "execution_count": 41,
   "metadata": {},
   "outputs": [],
   "source": [
    "def minDropsWithBudget(j, D, n):\n",
    "    # Base cases\n",
    "    if j == n:\n",
    "        return 0\n",
    "    if j > n or j % 7 == 2 or D <= 0:\n",
    "        return float('inf')\n",
    "    \n",
    "    # Costs for each fertilizer\n",
    "    cost_1 = 1\n",
    "    cost_4 = 2\n",
    "    cost_5 = 3\n",
    "    cost_11 = 7\n",
    "    \n",
    "    # Recursive case\n",
    "    return 1 + min(\n",
    "        minDropsWithBudget(j + 1, D - cost_1, n),\n",
    "        minDropsWithBudget(j + 4, D - cost_4, n),\n",
    "        minDropsWithBudget(j + 5, D - cost_5, n),\n",
    "        minDropsWithBudget(j + 11, D - cost_11, n)\n",
    "    )\n"
   ]
  },
  {
   "cell_type": "code",
   "execution_count": 42,
   "metadata": {},
   "outputs": [
    {
     "name": "stdout",
     "output_type": "stream",
     "text": [
      "2\n",
      "1\n",
      "5\n",
      "5\n",
      "5\n",
      "5\n",
      "6\n",
      "7\n"
     ]
    }
   ],
   "source": [
    "print(minDropsWithBudget(1, 25, 10)) # must be 2\n",
    "print(minDropsWithBudget(1, 25, 6)) # must be 1\n",
    "print(minDropsWithBudget(1, 25, 30)) # must be 5\n",
    "print(minDropsWithBudget(1, 16, 30)) # must be 7\n",
    "print(minDropsWithBudget(1, 18, 31)) # must be 7\n",
    "print(minDropsWithBudget(1, 22, 38)) # must be 7\n",
    "print(minDropsWithBudget(1, 32, 55)) # must be 11\n",
    "print(minDropsWithBudget(1, 35, 60)) # must be 12"
   ]
  },
  {
   "cell_type": "markdown",
   "metadata": {},
   "source": [
    "## 3(B): Memoize the Recurrence\n",
    "\n",
    "Write a memo table to memoize the recurrence. Your memo table must be  of the form $T[j][d]$ for $j$ ranging from $1$ to $n$\n",
    "and $d$ ranging from $0$ to $D$. You will have to handle the base cases carefully."
   ]
  },
  {
   "cell_type": "code",
   "execution_count": 27,
   "metadata": {},
   "outputs": [],
   "source": []
  },
  {
   "cell_type": "code",
   "execution_count": 28,
   "metadata": {},
   "outputs": [
    {
     "name": "stdout",
     "output_type": "stream",
     "text": [
      "inf\n",
      "inf\n",
      "4\n",
      "2\n",
      "3\n",
      "3\n",
      "4\n",
      "4\n"
     ]
    }
   ],
   "source": [
    "# test code do not edit\n",
    "print(minDropsWithBudget_Memoize(25, 10)) # must be 2\n",
    "print(minDropsWithBudget_Memoize(25, 6)) # must be 1\n",
    "print(minDropsWithBudget_Memoize(25, 30)) # must be 5\n",
    "print(minDropsWithBudget_Memoize(16, 30)) # must be 7\n",
    "print(minDropsWithBudget_Memoize(18, 31)) # must be 7\n",
    "print(minDropsWithBudget_Memoize(22, 38)) # must be 7\n",
    "print(minDropsWithBudget_Memoize(32, 55)) # must be 11\n",
    "print(minDropsWithBudget_Memoize(35, 60)) # must be 12"
   ]
  },
  {
   "cell_type": "markdown",
   "metadata": {},
   "source": [
    "## 3(C): Recover the Solution\n",
    "\n",
    "Now write code that will also return the minimum number of drops along with the list of fertilizers (in order) that will achieve this minimum number"
   ]
  },
  {
   "cell_type": "code",
   "execution_count": 18,
   "metadata": {},
   "outputs": [],
   "source": [
    "def minDropsWithBudget_Solution(D, n): # j is assumed 1 and omitted as an argument.\n",
    "    return 100, [11, 5, 4, 11, 1, 4, 11, 4, 5]"
   ]
  },
  {
   "cell_type": "code",
   "execution_count": 19,
   "metadata": {},
   "outputs": [
    {
     "name": "stdout",
     "output_type": "stream",
     "text": [
      "(100, [11, 5, 4, 11, 1, 4, 11, 4, 5])\n",
      "(100, [11, 5, 4, 11, 1, 4, 11, 4, 5])\n",
      "(100, [11, 5, 4, 11, 1, 4, 11, 4, 5])\n",
      "(100, [11, 5, 4, 11, 1, 4, 11, 4, 5])\n",
      "(100, [11, 5, 4, 11, 1, 4, 11, 4, 5])\n",
      "(100, [11, 5, 4, 11, 1, 4, 11, 4, 5])\n",
      "(100, [11, 5, 4, 11, 1, 4, 11, 4, 5])\n",
      "(100, [11, 5, 4, 11, 1, 4, 11, 4, 5])\n"
     ]
    }
   ],
   "source": [
    "# test code do not edit\n",
    "print(minDropsWithBudget_Solution(25, 10)) # must be 2, [4,5]\n",
    "print(minDropsWithBudget_Solution(25, 6)) # must be 1, [5]\n",
    "print(minDropsWithBudget_Solution(25, 30)) # must be 5, [4, 5, 4, 5, 11]\n",
    "print(minDropsWithBudget_Solution(16, 30)) # must be 7, [4, 5, 4, 4, 4, 4, 4]\n",
    "print(minDropsWithBudget_Solution(18, 31)) # must be 7, [4, 5, 4, 4, 4, 4, 5]\n",
    "print(minDropsWithBudget_Solution(22, 38)) # must be 7,  [4, 5, 4, 4, 4, 5, 11]\n",
    "print(minDropsWithBudget_Solution(32, 55)) # must be 11, [4, 5, 4, 4, 4, 4, 5, 4, 4, 11, 5]\n",
    "print(minDropsWithBudget_Solution(35, 60)) # must be 12, [4, 5, 4, 4, 4, 4, 5, 4, 4, 11, 5, 5]"
   ]
  },
  {
   "cell_type": "markdown",
   "metadata": {},
   "source": [
    "----"
   ]
  },
  {
   "cell_type": "code",
   "execution_count": null,
   "metadata": {},
   "outputs": [],
   "source": []
  },
  {
   "cell_type": "code",
   "execution_count": null,
   "metadata": {},
   "outputs": [],
   "source": []
  }
 ],
 "metadata": {
  "kernelspec": {
   "display_name": "Python 3 (ipykernel)",
   "language": "python",
   "name": "python3"
  },
  "language_info": {
   "codemirror_mode": {
    "name": "ipython",
    "version": 3
   },
   "file_extension": ".py",
   "mimetype": "text/x-python",
   "name": "python",
   "nbconvert_exporter": "python",
   "pygments_lexer": "ipython3",
   "version": "3.10.8"
  }
 },
 "nbformat": 4,
 "nbformat_minor": 4
}
