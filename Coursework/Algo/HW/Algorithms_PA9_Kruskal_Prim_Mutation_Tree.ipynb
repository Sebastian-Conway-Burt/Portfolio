{
 "cells": [
  {
   "cell_type": "markdown",
   "metadata": {},
   "source": [
    "# CSPB-3104 Programming Assignment 9\n",
    "\n"
   ]
  },
  {
   "cell_type": "markdown",
   "metadata": {},
   "source": [
    "1) (5 points) Implement Kruskal's algorithm \n",
    "\n",
    "Input: An edge list with weights: [(0,1,1), (0,2,2),(1,2,1)]  \n",
    "Output: A minimum spanning tree in the form of an edge list with weights: [(0, 1, 1), (1, 2, 1)] \n",
    "\n",
    "Note: Edge lists are lists of triples (i, j, w), with i < j, which represents an edge between nodes i and j with weight w.  Edges are undirected in this notebook, and you should always return edges in the form (i, j, w), where i < j. Make sure to sort your final edge list in natural order, ie (0, 2, 1) before (1,2,1), (0,1,0) before (0,2,0).\n",
    "\n",
    "Hint: Look into Python's Set class\n"
   ]
  },
  {
   "cell_type": "code",
   "execution_count": 1,
   "metadata": {},
   "outputs": [],
   "source": [
    "def kruskal(edges):\n",
    "    # Initialize a set for each node\n",
    "    node_sets = {i: {i} for i in range(max(max(u, v) for u, v, _ in edges) + 1)}\n",
    "    \n",
    "    # Function to find the set containing a particular node\n",
    "    def find_set(node):\n",
    "        for s in node_sets.values():\n",
    "            if node in s:\n",
    "                return s\n",
    "        return None\n",
    "\n",
    "    # Sort edges based on their weight\n",
    "    for i in range(len(edges)):\n",
    "        for j in range(len(edges) - 1):\n",
    "            if edges[j][2] > edges[j + 1][2]:\n",
    "                edges[j], edges[j + 1] = edges[j + 1], edges[j]\n",
    "\n",
    "    mst = []\n",
    "\n",
    "    for u, v, w in edges:\n",
    "        set_u = find_set(u)\n",
    "        set_v = find_set(v)\n",
    "\n",
    "        if set_u != set_v:\n",
    "            # Add the edge to the MST\n",
    "            mst.append((u, v, w))\n",
    "            # Merge the two sets\n",
    "            new_set = set_u.union(set_v)\n",
    "            for node in new_set:\n",
    "                node_sets[node] = new_set\n",
    "    # Final Bubble sort for return\n",
    "    for i in range(len(mst)):\n",
    "        for j in range(len(mst) - 1):\n",
    "            if mst[j][0] > mst[j + 1][0] or (mst[j][0] == mst[j + 1][0] and mst[j][1] > mst[j + 1][1]):\n",
    "                mst[j], mst[j + 1] = mst[j + 1], mst[j]\n",
    "\n",
    "    return mst"
   ]
  },
  {
   "cell_type": "markdown",
   "metadata": {},
   "source": [
    "2. (5 points) Implement Prim's algorithm\n",
    "\n",
    "Input: An edge list with weights: [(0,1,1), (0,2,2),(1,2,1)]  \n",
    "Output: A minimum spanning tree in the form of an edge list with weights: [(0, 1, 1), (1, 2, 1)] \n",
    "\n",
    "Note: Edge lists are lists of triples (i, j, w), with i < j, which represents an edge between nodes i and j with weight w.  Edges are undirected in this notebook, and you should always return edges in the form (i, j, w), where i < j. Make sure to sort your final edge list in natural order, ie (0, 2, 1) before (1,2,1), (0,1,0) before (0,2,0).\n",
    "\n",
    "Hint: You can use heapq for the priority queue."
   ]
  },
  {
   "cell_type": "code",
   "execution_count": 2,
   "metadata": {},
   "outputs": [],
   "source": [
    "import heapq\n",
    "\n",
    "def prim(edges):\n",
    "    graph = {}\n",
    "    for u, v, w in edges:\n",
    "        if u not in graph:\n",
    "            graph[u] = []\n",
    "        if v not in graph:\n",
    "            graph[v] = []\n",
    "        graph[u].append((w, u, v))\n",
    "        graph[v].append((w, v, u))\n",
    "\n",
    "    start_node = next(iter(graph))\n",
    "    mst = []\n",
    "    visited = set()\n",
    "    min_heap = []\n",
    "\n",
    "    def add_edges(node):\n",
    "        visited.add(node)\n",
    "        for edge in graph[node]:\n",
    "            if edge[2] not in visited:\n",
    "                heapq.heappush(min_heap, edge)\n",
    "\n",
    "    # Start from the starting node\n",
    "    add_edges(start_node)\n",
    "\n",
    "    while min_heap:\n",
    "        weight, u, v = heapq.heappop(min_heap)\n",
    "        if v not in visited:\n",
    "            mst.append((min(u, v), max(u, v), weight))\n",
    "            add_edges(v)\n",
    "\n",
    "    # Sort the final MST list before returning\n",
    "    mst.sort(key=lambda edge: (edge[0], edge[1], edge[2]))\n",
    "    return mst"
   ]
  },
  {
   "cell_type": "markdown",
   "metadata": {},
   "source": [
    "3) (15 points)  Finding the most likely mutation tree\n",
    "\n",
    "You're given a list of bacteria RNA fragments, all from related bacteria which have mutated into separate strains over time.  Your goal is to come up with the most likely sequence of mutations that led to this state of affairs.  \n",
    "\n",
    "The chance that one bacteria mutated into another depends on the number of differences in their RNA strings. \n",
    "The more differences in their RNA strings, the more unlikely it is that the bacteria mutated into each other.  (In fact, exponentially more unlikely -- the probability that k locations changed at the same time is $2^{-k}$).\n",
    "\n",
    "If we construct a fully connected graph whose nodes represent RNA fragments and each edge has weight $2^{-k}$, where k is the number of differences between RNA strings, then a spanning tree which *maximizes* the *product* of edge weights will be the __most likely mutation tree__.  (Each mututation is assumed to be independent, so the chance that all the mutations in the spanning tree happen is the product of their respective probabilities)\n",
    "\n",
    "Write a function that takes a list of RNA fragments, constructs an edge list with weights, then returns the most likely mutation tree, along with its probability.  \n",
    "\n",
    "Note: your algorithm should construct a graph and then run your implementation of Kruskal's algorithm on it.  The difficulty lies in determining the correct graph, so that a minimum sum spanning tree in your graph corresponds to a maximum product spanning tree in the graph described above.\n",
    "\n",
    "Input: [\"adad\",\"adac\",\"acad\", \"cdac\",\"addd\"]  \n",
    "Output: ([('adad', 'adac', 0.5),\n",
    "  ('adad', 'acad', 0.5),\n",
    "  ('adad', 'addd', 0.5),\n",
    "  ('adac', 'cdac', 0.5)],\n",
    " 0.0625)"
   ]
  },
  {
   "cell_type": "code",
   "execution_count": 3,
   "metadata": {},
   "outputs": [],
   "source": [
    "import math\n",
    "\n",
    "def compute_weight(s1, s2):\n",
    "    differences = sum(1 for a, b in zip(s1, s2) if a != b)\n",
    "    return 2 ** -differences\n",
    "\n",
    "def kruskal_with_sets(edges, num_nodes):\n",
    "    # Initialize a set for each node\n",
    "    node_sets = {i: {i} for i in range(num_nodes)}\n",
    "    \n",
    "    def find_set(node):\n",
    "        for s in node_sets.values():\n",
    "            if node in s:\n",
    "                return s\n",
    "        return None\n",
    "\n",
    "    mst = []\n",
    "    mst_weight = 0\n",
    "\n",
    "    for u, v, w in edges:\n",
    "        set_u = find_set(u)\n",
    "        set_v = find_set(v)\n",
    "\n",
    "        if set_u != set_v:\n",
    "            # Add the edge to the MST\n",
    "            mst.append((u, v, w))\n",
    "            mst_weight += w\n",
    "            # Merge the two sets\n",
    "            new_set = set_u.union(set_v)\n",
    "            for node in new_set:\n",
    "                node_sets[node] = new_set\n",
    "\n",
    "    return mst, mst_weight\n",
    "\n",
    "def mutation_tree(rna_fragments):\n",
    "    num_fragments = len(rna_fragments)\n",
    "    edges = []\n",
    "    \n",
    "    # Construct the graph with weights\n",
    "    for i in range(num_fragments):\n",
    "        for j in range(i + 1, num_fragments):\n",
    "            weight = compute_weight(rna_fragments[i], rna_fragments[j])\n",
    "            log_weight = -math.log2(weight)  # Use the negative log to convert max product to min sum\n",
    "            edges.append((i, j, log_weight))\n",
    "    \n",
    "    # Sort edges by weight (log_weight)\n",
    "    for i in range(len(edges)):\n",
    "        for j in range(len(edges) - 1):\n",
    "            if edges[j][2] > edges[j + 1][2]:\n",
    "                edges[j], edges[j + 1] = edges[j + 1], edges[j]\n",
    "\n",
    "    # Apply Kruskal's algorithm to find the minimum spanning tree\n",
    "    mst, _ = kruskal_with_sets(edges, num_fragments)\n",
    "    \n",
    "    # Convert the MST to use original weights and calculate the probability\n",
    "    final_mst = []\n",
    "    probability = 1\n",
    "    for u, v, log_weight in mst:\n",
    "        original_weight = 2 ** -log_weight\n",
    "        final_mst.append((rna_fragments[u], rna_fragments[v], original_weight))\n",
    "        probability *= original_weight\n",
    "    \n",
    "    return final_mst, probability\n"
   ]
  },
  {
   "cell_type": "markdown",
   "metadata": {},
   "source": [
    "Testing below\n",
    "\n",
    "----"
   ]
  },
  {
   "cell_type": "code",
   "execution_count": 4,
   "metadata": {},
   "outputs": [
    {
     "name": "stderr",
     "output_type": "stream",
     "text": [
      "/tmp/ipykernel_125/1173355505.py:3: DeprecationWarning: Importing display from IPython.core.display is deprecated since IPython 7.14, please import from IPython display\n",
      "  from IPython.core.display import display, HTML\n"
     ]
    },
    {
     "data": {
      "text/html": [
       "<font color=\"green\"> All tests succeeded! </font>"
      ],
      "text/plain": [
       "<IPython.core.display.HTML object>"
      ]
     },
     "metadata": {},
     "output_type": "display_data"
    }
   ],
   "source": [
    "## DO NOT EDIT TESTING CODE FOR YOUR ANSWER ABOVE\n",
    "# Press shift enter to test your code. Ensure that your code has been saved first by pressing shift+enter on the previous cell.\n",
    "from IPython.core.display import display, HTML\n",
    "def kruskal_test():\n",
    "    failed = False\n",
    "    test_cases = [ \n",
    "        ([(0,1,1), (0,2,2),(1,2,1)], [(0, 1, 1), (1, 2, 1)]),\n",
    "        ([(0,1,2), (0,4,1), (1,2,1), (1,4,2), (2,3,1), (3,4,1)], \n",
    "         [(0, 4, 1), (1, 2, 1), (2, 3, 1), (3, 4, 1)]),\n",
    "        ([(0,1,1), (0,2,2), (0,3,1), (1,4,1), (1,5,2), (2,4,2), \n",
    "          (2,6,2), (3,5,2), (3,6,1), (4,7,2), (5,7,2), (6,7,1)], \n",
    "          [(0, 1, 1), (0, 2, 2), (0, 3, 1), (1, 4, 1), (1, 5, 2), (3, 6, 1), (6, 7, 1)]),\n",
    "        ([(0,1,2), (0,2,2), (0,3,1), (1,4,1), (1,5,1), (2,4,2), \n",
    "          (2,6,1), (3,5,2), (3,6,2), (4,7,2), (5,7,2), (6,7,1)], \n",
    "         [(0, 1, 2), (0, 2, 2), (0, 3, 1), (1, 4, 1), (1, 5, 1), (2, 6, 1), (6, 7, 1)]) \n",
    "    ]\n",
    "    for (test_graph, solution) in test_cases:\n",
    "        output = kruskal(test_graph)\n",
    "        if (solution != output):\n",
    "            s1 = '<font color=\\\"red\\\"> Failed - test case: Inputs: graph =' + str(test_graph) + \"<br>\"\n",
    "            s2 = '  <b> Expected Output: </b> ' + str(solution) + ' Your code output: ' + str(output)+ \"<br>\"\n",
    "            display(HTML(s1+s2))\n",
    "            failed = True\n",
    "            \n",
    "    if failed:\n",
    "        display(HTML('<font color=\"red\"> One or more tests failed. </font>'))\n",
    "    else:\n",
    "        display(HTML('<font color=\"green\"> All tests succeeded! </font>'))\n",
    "kruskal_test()"
   ]
  },
  {
   "cell_type": "code",
   "execution_count": 5,
   "metadata": {},
   "outputs": [
    {
     "name": "stderr",
     "output_type": "stream",
     "text": [
      "/tmp/ipykernel_125/3581563958.py:3: DeprecationWarning: Importing display from IPython.core.display is deprecated since IPython 7.14, please import from IPython display\n",
      "  from IPython.core.display import display, HTML\n"
     ]
    },
    {
     "data": {
      "text/html": [
       "<font color=\"green\"> All tests succeeded! </font>"
      ],
      "text/plain": [
       "<IPython.core.display.HTML object>"
      ]
     },
     "metadata": {},
     "output_type": "display_data"
    }
   ],
   "source": [
    "## DO NOT EDIT TESTING CODE FOR YOUR ANSWER ABOVE\n",
    "# Press shift enter to test your code. Ensure that your code has been saved first by pressing shift+enter on the previous cell.\n",
    "from IPython.core.display import display, HTML\n",
    "def prim_test():\n",
    "    failed = False\n",
    "    test_cases = [ \n",
    "        ([(0,1,1), (0,2,2),(1,2,1)], [(0, 1, 1), (1, 2, 1)]),\n",
    "        ([(0,1,2), (0,4,1), (1,2,1), (1,4,2), (2,3,1), (3,4,1)], \n",
    "         [(0, 4, 1), (1, 2, 1), (2, 3, 1), (3, 4, 1)]),\n",
    "        ([(0,1,1), (0,2,2), (0,3,1), (1,4,1), (1,5,2), (2,4,2), \n",
    "          (2,6,2), (3,5,2), (3,6,1), (4,7,2), (5,7,2), (6,7,1)], \n",
    "          [(0, 1, 1), (0, 2, 2), (0, 3, 1), (1, 4, 1), (1, 5, 2), (3, 6, 1), (6, 7, 1)]),\n",
    "        ([(0,1,2), (0,2,2), (0,3,1), (1,4,1), (1,5,1), (2,4,2), \n",
    "          (2,6,1), (3,5,2), (3,6,2), (4,7,2), (5,7,2), (6,7,1)], \n",
    "         [(0, 1, 2), (0, 2, 2), (0, 3, 1), (1, 4, 1), (1, 5, 1), (2, 6, 1), (6, 7, 1)]) \n",
    "    ]\n",
    "    for (test_graph, solution) in test_cases:\n",
    "        output = prim(test_graph)\n",
    "        if (solution != output):\n",
    "            s1 = '<font color=\\\"red\\\"> Failed - test case: Inputs: graph =' + str(test_graph) + \"<br>\"\n",
    "            s2 = '  <b> Expected Output: </b> ' + str(solution) + ' Your code output: ' + str(output)+ \"<br>\"\n",
    "            display(HTML(s1+s2))\n",
    "            failed = True\n",
    "            \n",
    "    if failed:\n",
    "        display(HTML('<font color=\"red\"> One or more tests failed. </font>'))\n",
    "    else:\n",
    "        display(HTML('<font color=\"green\"> All tests succeeded! </font>'))\n",
    "prim_test()"
   ]
  },
  {
   "cell_type": "code",
   "execution_count": 6,
   "metadata": {},
   "outputs": [
    {
     "name": "stderr",
     "output_type": "stream",
     "text": [
      "/tmp/ipykernel_125/2680351308.py:3: DeprecationWarning: Importing display from IPython.core.display is deprecated since IPython 7.14, please import from IPython display\n",
      "  from IPython.core.display import display, HTML\n"
     ]
    },
    {
     "data": {
      "text/html": [
       "<font color=\"green\"> All tests succeeded! </font>"
      ],
      "text/plain": [
       "<IPython.core.display.HTML object>"
      ]
     },
     "metadata": {},
     "output_type": "display_data"
    }
   ],
   "source": [
    "## DO NOT EDIT TESTING CODE FOR YOUR ANSWER ABOVE\n",
    "# Press shift enter to test your code. Ensure that your code has been saved first by pressing shift+enter on the previous cell.\n",
    "from IPython.core.display import display, HTML\n",
    "def mutation_test():\n",
    "    failed = False\n",
    "    test_cases = [ \n",
    "        ([\"TAT\", \"CAT\", \"CAC\"],([('TAT', 'CAT', 0.5), ('CAT', 'CAC', 0.5)], 0.25)),\n",
    "        ([\"ACATA\", \"ATCTA\", \"GTCTA\", \"GTATA\", \"GCATA\"], \n",
    "        ([('ACATA', 'GCATA', 0.5), ('ATCTA', 'GTCTA', 0.5), ('GTCTA', 'GTATA', 0.5), ('GTATA', 'GCATA', 0.5)], 0.0625)),\n",
    "        ([\"GATTACA\", \"CGACTCA\", \"CATTACA\", \"CGACATA\", \"CGTTACA\", \"CGACACA\", \"CATTACG\", \"CGATACA\"], \n",
    "         ([('GATTACA', 'CATTACA', 0.5), ('CGACTCA', 'CGACACA', 0.5), ('CATTACA', 'CGTTACA', 0.5), \n",
    "           ('CATTACA', 'CATTACG', 0.5), ('CGACATA', 'CGACACA', 0.5), ('CGTTACA', 'CGATACA', 0.5), ('CGACACA', 'CGATACA', 0.5)], 0.0078125)),\n",
    "        ([\"CATTACA\", \"GATTACA\", \"CTTTACA\", \"CTGGTGA\", \"CTGTACA\", \"CTGGTCA\", \"CTGGTGC\", \"CTGGACA\"], \n",
    "        ([('CATTACA', 'GATTACA', 0.5), ('CATTACA', 'CTTTACA', 0.5), ('CTTTACA', 'CTGTACA', 0.5), \n",
    "          ('CTGGTGA', 'CTGGTCA', 0.5), ('CTGGTGA', 'CTGGTGC', 0.5), ('CTGTACA', 'CTGGACA', 0.5), ('CTGGTCA', 'CTGGACA', 0.5)], 0.0078125))\n",
    "    ]\n",
    "    for (test_graph, solution) in test_cases:\n",
    "        output = mutation_tree(test_graph)\n",
    "        if (solution != output):\n",
    "            s1 = '<font color=\\\"red\\\"> Failed - test case: Inputs: graph =' + str(test_graph) + \"<br>\"\n",
    "            s2 = '  <b> Expected Output: </b> ' + str(solution) + ' Your code output: ' + str(output)+ \"<br>\"\n",
    "            display(HTML(s1+s2))\n",
    "            failed = True\n",
    "            \n",
    "    if failed:\n",
    "        display(HTML('<font color=\"red\"> One or more tests failed. </font>'))\n",
    "    else:\n",
    "        display(HTML('<font color=\"green\"> All tests succeeded! </font>'))\n",
    "mutation_test()"
   ]
  },
  {
   "cell_type": "code",
   "execution_count": null,
   "metadata": {},
   "outputs": [],
   "source": []
  }
 ],
 "metadata": {
  "kernelspec": {
   "display_name": "Python 3 (ipykernel)",
   "language": "python",
   "name": "python3"
  },
  "language_info": {
   "codemirror_mode": {
    "name": "ipython",
    "version": 3
   },
   "file_extension": ".py",
   "mimetype": "text/x-python",
   "name": "python",
   "nbconvert_exporter": "python",
   "pygments_lexer": "ipython3",
   "version": "3.10.8"
  }
 },
 "nbformat": 4,
 "nbformat_minor": 4
}
