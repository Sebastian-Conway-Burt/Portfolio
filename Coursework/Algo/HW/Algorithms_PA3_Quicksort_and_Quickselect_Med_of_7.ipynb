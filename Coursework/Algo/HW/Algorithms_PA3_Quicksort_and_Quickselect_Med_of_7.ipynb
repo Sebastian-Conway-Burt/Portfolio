{
 "cells": [
  {
   "cell_type": "markdown",
   "metadata": {},
   "source": [
    "# CSPB-3104 Programming Assignment 3\n",
    "\n"
   ]
  },
  {
   "cell_type": "markdown",
   "metadata": {},
   "source": [
    "1) (10 points) Implement quicksort\n",
    "\n",
    "Your function must sort the array in place, and return the number of direct comparisons (is a[i]  < a[j]?) made."
   ]
  },
  {
   "cell_type": "code",
   "execution_count": 1,
   "metadata": {},
   "outputs": [],
   "source": [
    "def quicksort(a):\n",
    "    def partition(low, high):\n",
    "        pivot = a[high]\n",
    "        i = low - 1\n",
    "        comparisons = 0\n",
    "        for j in range(low, high):\n",
    "            comparisons += 1\n",
    "            if a[j] < pivot:\n",
    "                i += 1\n",
    "                a[i], a[j] = a[j], a[i]\n",
    "        a[i + 1], a[high] = a[high], a[i + 1]\n",
    "        return i + 1, comparisons\n",
    "\n",
    "    def quicksort_helper(low, high):\n",
    "        if low < high:\n",
    "            pi, comps = partition(low, high)\n",
    "            left_comps = quicksort_helper(low, pi - 1)\n",
    "            right_comps = quicksort_helper(pi + 1, high)\n",
    "            return comps + left_comps + right_comps\n",
    "        return 0\n",
    "\n",
    "    return quicksort_helper(0, len(a) - 1)\n"
   ]
  },
  {
   "cell_type": "markdown",
   "metadata": {},
   "source": [
    "2) (15 points) Quickselect with Median-of-7-Medians\n",
    "\n",
    "You must implement quickselect with m-o-7-m.  \n",
    "\n",
    "Recall quickselect(a, j) will find the jth largest element in the list a.  (So quickselect(a, n//2) will be the median of the list a, where length(a) == n.  j starts counting from 1, \n",
    "so quickselect(a, 1) is the largest element of the list).\n",
    "Using the median-o-7-m trick goes like this:\n",
    "\n",
    "On a call to quickselect(a,j):\n",
    "1. First, split a into n//7 lists of length 7 and sort them.\n",
    "2. Next, make a list of their medians (the middle element of each list)\n",
    "3. Next, use quickselect on this list of medians to find *its* median,\n",
    "4. Partition the original list using this median as pivot\n",
    "5. recurse quickselect on the side containing the sought for element.\n"
   ]
  },
  {
   "cell_type": "code",
   "execution_count": 38,
   "metadata": {},
   "outputs": [],
   "source": [
    "def quickselect(arr, k):\n",
    "    def partition(arr, pivot):\n",
    "        left = []\n",
    "        right = []\n",
    "        for num in arr:\n",
    "            if num > pivot:\n",
    "                left.append(num)\n",
    "            elif num < pivot:\n",
    "                right.append(num)\n",
    "        return left, pivot, right\n",
    "    \n",
    "    def median_of_medians(arr):\n",
    "        if len(arr) <= 7:\n",
    "            arr.sort(reverse=True)\n",
    "            return arr[len(arr) // 2]\n",
    "        \n",
    "        medians = []\n",
    "        for i in range(0, len(arr), 7):\n",
    "            chunk = sorted(arr[i:i+7], reverse=True)\n",
    "            medians.append(chunk[len(chunk) // 2])\n",
    "        \n",
    "        return quickselect(medians, len(medians) // 2 + 1)\n",
    "    \n",
    "    if len(arr) == 1:\n",
    "        return arr[0]\n",
    "    \n",
    "    pivot = median_of_medians(arr)\n",
    "    left, median, right = partition(arr, pivot)\n",
    "    \n",
    "    if k <= len(left):\n",
    "        return quickselect(left, k)\n",
    "    elif k == len(left) + 1:\n",
    "        return median\n",
    "    else:\n",
    "        return quickselect(right, k - len(left) - 1)"
   ]
  },
  {
   "cell_type": "markdown",
   "metadata": {},
   "source": [
    "Testing below\n",
    "\n",
    "----"
   ]
  },
  {
   "cell_type": "code",
   "execution_count": 39,
   "metadata": {},
   "outputs": [
    {
     "name": "stderr",
     "output_type": "stream",
     "text": [
      "/tmp/ipykernel_142/3016957839.py:3: DeprecationWarning: Importing display from IPython.core.display is deprecated since IPython 7.14, please import from IPython display\n",
      "  from IPython.core.display import display, HTML\n"
     ]
    },
    {
     "data": {
      "text/html": [
       "<font color=\"green\"> All tests succeeded! </font>"
      ],
      "text/plain": [
       "<IPython.core.display.HTML object>"
      ]
     },
     "metadata": {},
     "output_type": "display_data"
    }
   ],
   "source": [
    "\n",
    "## DO NOT EDIT TESTING CODE FOR YOUR ANSWER ABOVE\n",
    "# Press shift enter to test your code. Ensure that your code has been saved first by pressing shift+enter on the previous cell.\n",
    "from IPython.core.display import display, HTML\n",
    "def quicksort_test():\n",
    "    failed = False\n",
    "    test_cases = [ \n",
    "        [9, 8, 7, 6, 5, 4, 3, 2, 1, 0],\n",
    "        [0, 1, 2, 3, 4, 5, 6, 7, 8, 9],\n",
    "        [0, 0, 0, 0, 0, 0, -1],\n",
    "        [10, -10, 9, -9, 8, -8, 7, -7]\n",
    "    ]\n",
    "    for test_array in test_cases:\n",
    "        original = test_array.copy()\n",
    "        expected_output = sorted(test_array)\n",
    "        compare_count = quicksort(test_array)\n",
    "        if (test_array != expected_output):\n",
    "            s1 = '<font color=\\\"red\\\"> Failed - test case: Inputs: a=' + str(original) + \"<br>\"\n",
    "            s2 = '  <b> Expected Output: </b> ' + str(expected_output) + ' Your code output: ' + str(test_array)+ \"<br>\"\n",
    "            display(HTML(s1+s2))\n",
    "            failed = True\n",
    "            \n",
    "    if failed:\n",
    "        display(HTML('<font color=\"red\"> One or more tests failed. </font>'))\n",
    "    else:\n",
    "        display(HTML('<font color=\"green\"> All tests succeeded! </font>'))\n",
    "quicksort_test()"
   ]
  },
  {
   "cell_type": "code",
   "execution_count": 40,
   "metadata": {
    "tags": []
   },
   "outputs": [
    {
     "data": {
      "text/html": [
       "<font color=\"green\"> All tests succeeded! </font>"
      ],
      "text/plain": [
       "<IPython.core.display.HTML object>"
      ]
     },
     "metadata": {},
     "output_type": "display_data"
    }
   ],
   "source": [
    "def quickselect_test():\n",
    "    failed = False\n",
    "    test_cases = [ \n",
    "        ([9, 8, 7, 6, 5, 4, 3, 2, 1, 0], 2, 8),\n",
    "        ([0, 1, 2, 3, 4, 5, 6, 7, 8, 9], 10, 0),\n",
    "        ([0, 0, 0, 0, 0, 0, -1], 1, 0),\n",
    "        ([10, -10, 9, -9, 8, -8, 7, -7], 5, -7)\n",
    "    ]\n",
    "    for (test_array, j, expected_output) in test_cases:\n",
    "        output = quickselect(test_array, j)\n",
    "        if (output != expected_output):\n",
    "            s1 = '<font color=\\\"red\\\"> Failed - test case: Inputs: a=' + str(test_array) + ' j = ' + str(j) +\"<br>\"\n",
    "            s2 = '  <b> Expected Output: </b> ' + str(expected_output) + ' Your code output: ' + str(output)+ \"<br>\"\n",
    "            display(HTML(s1+s2))\n",
    "            failed = True\n",
    "            \n",
    "    if failed:\n",
    "        display(HTML('<font color=\"red\"> One or more tests failed. </font>'))\n",
    "    else:\n",
    "        display(HTML('<font color=\"green\"> All tests succeeded! </font>'))\n",
    "\n",
    "quickselect_test()"
   ]
  },
  {
   "cell_type": "code",
   "execution_count": null,
   "metadata": {},
   "outputs": [],
   "source": []
  },
  {
   "cell_type": "code",
   "execution_count": null,
   "metadata": {},
   "outputs": [],
   "source": []
  },
  {
   "cell_type": "code",
   "execution_count": null,
   "metadata": {},
   "outputs": [],
   "source": []
  }
 ],
 "metadata": {
  "kernelspec": {
   "display_name": "Python 3 (ipykernel)",
   "language": "python",
   "name": "python3"
  },
  "language_info": {
   "codemirror_mode": {
    "name": "ipython",
    "version": 3
   },
   "file_extension": ".py",
   "mimetype": "text/x-python",
   "name": "python",
   "nbconvert_exporter": "python",
   "pygments_lexer": "ipython3",
   "version": "3.10.8"
  }
 },
 "nbformat": 4,
 "nbformat_minor": 4
}
